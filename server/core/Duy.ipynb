{
 "cells": [
  {
   "cell_type": "code",
   "execution_count": 74,
   "metadata": {},
   "outputs": [],
   "source": [
    "\n",
    "import pandas as pd\n",
    "import numpy as np\n",
    "from pandas import read_csv\n",
    "from pmdarima.arima import auto_arima\n",
    "from datetime import datetime\n",
    "import matplotlib.pyplot as plt\n",
    "from pmdarima.arima import ADFTest"
   ]
  },
  {
   "cell_type": "code",
   "execution_count": 75,
   "metadata": {},
   "outputs": [],
   "source": [
    "values = read_csv(\"../../Time_series_data.csv\")"
   ]
  },
  {
   "cell_type": "code",
   "execution_count": 76,
   "metadata": {},
   "outputs": [
    {
     "name": "stdout",
     "output_type": "stream",
     "text": [
      "105\n"
     ]
    }
   ],
   "source": [
    "print(values.shape[0])"
   ]
  },
  {
   "cell_type": "code",
   "execution_count": 77,
   "metadata": {},
   "outputs": [
    {
     "name": "stdout",
     "output_type": "stream",
     "text": [
      "2021-09\n"
     ]
    }
   ],
   "source": [
    "x = values['Month'][values.shape[0]-1]\n",
    "print(x)"
   ]
  },
  {
   "cell_type": "code",
   "execution_count": 78,
   "metadata": {},
   "outputs": [],
   "source": [
    "values['Month'] = pd.to_datetime(values['Month'], errors = 'coerce')\n",
    "values.set_index('Month', inplace=True)"
   ]
  },
  {
   "cell_type": "code",
   "execution_count": 79,
   "metadata": {},
   "outputs": [
    {
     "name": "stdout",
     "output_type": "stream",
     "text": [
      "             Sales\n",
      "Month             \n",
      "2013-01-01  2815.0\n",
      "2013-02-01  2672.0\n",
      "2013-03-01  2755.0\n",
      "2013-04-01     NaN\n",
      "2013-05-01     NaN\n",
      "...            ...\n",
      "2021-05-01  4618.0\n",
      "2021-06-01  5312.0\n",
      "2021-07-01  4298.0\n",
      "2021-08-01  1413.0\n",
      "2021-09-01  5877.0\n",
      "\n",
      "[105 rows x 1 columns]\n"
     ]
    }
   ],
   "source": [
    "print(values)"
   ]
  },
  {
   "cell_type": "code",
   "execution_count": 80,
   "metadata": {},
   "outputs": [],
   "source": [
    "values['Sales'].fillna(values['Sales'].mean(), inplace=True)"
   ]
  },
  {
   "cell_type": "code",
   "execution_count": 81,
   "metadata": {},
   "outputs": [
    {
     "data": {
      "text/html": [
       "<div>\n",
       "<style scoped>\n",
       "    .dataframe tbody tr th:only-of-type {\n",
       "        vertical-align: middle;\n",
       "    }\n",
       "\n",
       "    .dataframe tbody tr th {\n",
       "        vertical-align: top;\n",
       "    }\n",
       "\n",
       "    .dataframe thead th {\n",
       "        text-align: right;\n",
       "    }\n",
       "</style>\n",
       "<table border=\"1\" class=\"dataframe\">\n",
       "  <thead>\n",
       "    <tr style=\"text-align: right;\">\n",
       "      <th></th>\n",
       "      <th>Sales</th>\n",
       "    </tr>\n",
       "    <tr>\n",
       "      <th>Month</th>\n",
       "      <th></th>\n",
       "    </tr>\n",
       "  </thead>\n",
       "  <tbody>\n",
       "    <tr>\n",
       "      <th>2013-01-01</th>\n",
       "      <td>2815.000000</td>\n",
       "    </tr>\n",
       "    <tr>\n",
       "      <th>2013-02-01</th>\n",
       "      <td>2672.000000</td>\n",
       "    </tr>\n",
       "    <tr>\n",
       "      <th>2013-03-01</th>\n",
       "      <td>2755.000000</td>\n",
       "    </tr>\n",
       "    <tr>\n",
       "      <th>2013-04-01</th>\n",
       "      <td>4798.582524</td>\n",
       "    </tr>\n",
       "    <tr>\n",
       "      <th>2013-05-01</th>\n",
       "      <td>4798.582524</td>\n",
       "    </tr>\n",
       "    <tr>\n",
       "      <th>...</th>\n",
       "      <td>...</td>\n",
       "    </tr>\n",
       "    <tr>\n",
       "      <th>2021-05-01</th>\n",
       "      <td>4618.000000</td>\n",
       "    </tr>\n",
       "    <tr>\n",
       "      <th>2021-06-01</th>\n",
       "      <td>5312.000000</td>\n",
       "    </tr>\n",
       "    <tr>\n",
       "      <th>2021-07-01</th>\n",
       "      <td>4298.000000</td>\n",
       "    </tr>\n",
       "    <tr>\n",
       "      <th>2021-08-01</th>\n",
       "      <td>1413.000000</td>\n",
       "    </tr>\n",
       "    <tr>\n",
       "      <th>2021-09-01</th>\n",
       "      <td>5877.000000</td>\n",
       "    </tr>\n",
       "  </tbody>\n",
       "</table>\n",
       "<p>105 rows × 1 columns</p>\n",
       "</div>"
      ],
      "text/plain": [
       "                  Sales\n",
       "Month                  \n",
       "2013-01-01  2815.000000\n",
       "2013-02-01  2672.000000\n",
       "2013-03-01  2755.000000\n",
       "2013-04-01  4798.582524\n",
       "2013-05-01  4798.582524\n",
       "...                 ...\n",
       "2021-05-01  4618.000000\n",
       "2021-06-01  5312.000000\n",
       "2021-07-01  4298.000000\n",
       "2021-08-01  1413.000000\n",
       "2021-09-01  5877.000000\n",
       "\n",
       "[105 rows x 1 columns]"
      ]
     },
     "execution_count": 81,
     "metadata": {},
     "output_type": "execute_result"
    }
   ],
   "source": [
    "values"
   ]
  },
  {
   "cell_type": "code",
   "execution_count": 26,
   "metadata": {},
   "outputs": [
    {
     "name": "stdout",
     "output_type": "stream",
     "text": [
      "             Sales\n",
      "Month             \n",
      "2013-01-01  2815.0\n",
      "2013-02-01  2672.0\n",
      "2013-03-01  2755.0\n",
      "2013-06-01  3036.0\n",
      "2013-07-01  2282.0\n",
      "...            ...\n",
      "2021-05-01  4618.0\n",
      "2021-06-01  5312.0\n",
      "2021-07-01  4298.0\n",
      "2021-08-01  1413.0\n",
      "2021-09-01  5877.0\n",
      "\n",
      "[103 rows x 1 columns]\n"
     ]
    }
   ],
   "source": [
    "missing_values_count = values.isna().sum().sum()\n",
    "if missing_values_count != 0:\n",
    "    values = values[~(values.isna().any(axis=1))]\n",
    "    print(values)"
   ]
  },
  {
   "cell_type": "code",
   "execution_count": 27,
   "metadata": {},
   "outputs": [
    {
     "name": "stdout",
     "output_type": "stream",
     "text": [
      "Performing stepwise search to minimize aic\n",
      " ARIMA(0,1,0)(0,1,0)[12]             : AIC=1152.595, Time=0.04 sec\n"
     ]
    },
    {
     "name": "stdout",
     "output_type": "stream",
     "text": [
      " ARIMA(1,1,0)(1,1,0)[12]             : AIC=1139.407, Time=0.37 sec\n",
      " ARIMA(0,1,1)(0,1,1)[12]             : AIC=1121.789, Time=0.27 sec\n",
      " ARIMA(0,1,1)(0,1,0)[12]             : AIC=1120.064, Time=0.08 sec\n",
      " ARIMA(0,1,1)(1,1,0)[12]             : AIC=1121.650, Time=0.22 sec\n",
      " ARIMA(0,1,1)(1,1,1)[12]             : AIC=1122.862, Time=0.51 sec\n",
      " ARIMA(1,1,1)(0,1,0)[12]             : AIC=1121.748, Time=0.13 sec\n",
      " ARIMA(0,1,2)(0,1,0)[12]             : AIC=1121.705, Time=0.14 sec\n",
      " ARIMA(1,1,0)(0,1,0)[12]             : AIC=1140.055, Time=0.05 sec\n",
      " ARIMA(1,1,2)(0,1,0)[12]             : AIC=1121.772, Time=0.35 sec\n",
      " ARIMA(0,1,1)(0,1,0)[12] intercept   : AIC=inf, Time=0.12 sec\n",
      "\n",
      "Best model:  ARIMA(0,1,1)(0,1,0)[12]          \n",
      "Total fit time: 2.292 seconds\n"
     ]
    }
   ],
   "source": [
    "from sklearn.model_selection import train_test_split\n",
    "train, test = train_test_split(values, test_size=0.2, shuffle=False)\n",
    "\n",
    "arima_model = auto_arima(train, start_p=0, d=1, start_q=0,\n",
    "                        max_p=5, max_d=5, max_q=5, start_P=0,\n",
    "                        D=1, start_Q=0, max_P=5, max_D=5,\n",
    "                        max_Q=5, m=12, seasonal=True,\n",
    "                        error_action='warn', trace=True,\n",
    "                        supress_warnings=True, stepwise=True,\n",
    "                        random_state=20, n_fits=50)"
   ]
  },
  {
   "cell_type": "code",
   "execution_count": 32,
   "metadata": {},
   "outputs": [
    {
     "data": {
      "text/plain": [
       "DatetimeIndex(['2020-01-01', '2020-02-01', '2020-03-01', '2020-04-01',\n",
       "               '2020-05-01', '2020-06-01', '2020-07-01', '2020-08-01',\n",
       "               '2020-09-01', '2020-10-01', '2020-11-01', '2020-12-01',\n",
       "               '2021-01-01', '2021-02-01', '2021-03-01', '2021-04-01',\n",
       "               '2021-05-01', '2021-06-01', '2021-07-01', '2021-08-01',\n",
       "               '2021-09-01'],\n",
       "              dtype='datetime64[ns]', name='Month', freq=None)"
      ]
     },
     "execution_count": 32,
     "metadata": {},
     "output_type": "execute_result"
    }
   ],
   "source": [
    "test.index"
   ]
  },
  {
   "cell_type": "code",
   "execution_count": 28,
   "metadata": {},
   "outputs": [
    {
     "name": "stderr",
     "output_type": "stream",
     "text": [
      "c:\\Users\\haman\\anaconda3\\envs\\doan\\lib\\site-packages\\statsmodels\\tsa\\base\\tsa_model.py:390: ValueWarning: No supported index is available. Prediction results will be given with an integer index beginning at `start`.\n",
      "  warnings.warn('No supported index is available.'\n"
     ]
    }
   ],
   "source": [
    "prediction = pd.DataFrame(\n",
    "    arima_model.predict(n_periods=30),index=test.index )\n",
    "prediction.columns = ['predicted_values']\n",
    "# prediction.reset_index(inplace=True)"
   ]
  },
  {
   "cell_type": "code",
   "execution_count": 29,
   "metadata": {},
   "outputs": [
    {
     "name": "stdout",
     "output_type": "stream",
     "text": [
      "            predicted_values\n",
      "Month                       \n",
      "2020-01-01               NaN\n",
      "2020-02-01               NaN\n",
      "2020-03-01               NaN\n",
      "2020-04-01               NaN\n",
      "2020-05-01               NaN\n",
      "2020-06-01               NaN\n",
      "2020-07-01               NaN\n",
      "2020-08-01               NaN\n",
      "2020-09-01               NaN\n",
      "2020-10-01               NaN\n",
      "2020-11-01               NaN\n",
      "2020-12-01               NaN\n",
      "2021-01-01               NaN\n",
      "2021-02-01               NaN\n",
      "2021-03-01               NaN\n",
      "2021-04-01               NaN\n",
      "2021-05-01               NaN\n",
      "2021-06-01               NaN\n",
      "2021-07-01               NaN\n",
      "2021-08-01               NaN\n",
      "2021-09-01               NaN\n"
     ]
    }
   ],
   "source": [
    "print(prediction)"
   ]
  },
  {
   "cell_type": "code",
   "execution_count": 30,
   "metadata": {},
   "outputs": [],
   "source": [
    "index_future_dates = pd.date_range(\n",
    "    start=x, end='2023-01-1', freq='MS')"
   ]
  },
  {
   "cell_type": "code",
   "execution_count": 31,
   "metadata": {},
   "outputs": [
    {
     "name": "stdout",
     "output_type": "stream",
     "text": [
      "            predicted_values\n",
      "2021-09-01               NaN\n",
      "2021-10-01               NaN\n",
      "2021-11-01               NaN\n",
      "2021-12-01               NaN\n",
      "2022-01-01               NaN\n",
      "2022-02-01               NaN\n",
      "2022-03-01               NaN\n",
      "2022-04-01               NaN\n",
      "2022-05-01               NaN\n",
      "2022-06-01               NaN\n",
      "2022-07-01               NaN\n",
      "2022-08-01               NaN\n",
      "2022-09-01               NaN\n",
      "2022-10-01               NaN\n",
      "2022-11-01               NaN\n",
      "2022-12-01               NaN\n",
      "2023-01-01               NaN\n"
     ]
    },
    {
     "name": "stderr",
     "output_type": "stream",
     "text": [
      "c:\\Users\\haman\\anaconda3\\envs\\doan\\lib\\site-packages\\statsmodels\\tsa\\base\\tsa_model.py:390: ValueWarning: No supported index is available. Prediction results will be given with an integer index beginning at `start`.\n",
      "  warnings.warn('No supported index is available.'\n"
     ]
    }
   ],
   "source": [
    "prediction_arima = pd.DataFrame(\n",
    "    arima_model.predict(n_periods=26), index = index_future_dates)\n",
    "prediction_arima.columns = ['predicted_values']  \n",
    "print(prediction_arima)"
   ]
  }
 ],
 "metadata": {
  "kernelspec": {
   "display_name": "nckh",
   "language": "python",
   "name": "python3"
  },
  "language_info": {
   "codemirror_mode": {
    "name": "ipython",
    "version": 3
   },
   "file_extension": ".py",
   "mimetype": "text/x-python",
   "name": "python",
   "nbconvert_exporter": "python",
   "pygments_lexer": "ipython3",
   "version": "3.9.16"
  },
  "orig_nbformat": 4
 },
 "nbformat": 4,
 "nbformat_minor": 2
}
