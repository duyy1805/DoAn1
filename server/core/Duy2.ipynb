{
 "cells": [
  {
   "cell_type": "code",
   "execution_count": 1,
   "metadata": {},
   "outputs": [],
   "source": [
    "\n",
    "import pandas as pd\n",
    "import numpy as np\n",
    "from pandas import read_csv\n",
    "from pmdarima.arima import auto_arima\n",
    "from datetime import datetime\n",
    "import matplotlib.pyplot as plt\n",
    "from pmdarima.arima import ADFTest"
   ]
  },
  {
   "cell_type": "code",
   "execution_count": 2,
   "metadata": {},
   "outputs": [],
   "source": [
    "sales = read_csv(\"../../Time_series_data.csv\")"
   ]
  },
  {
   "cell_type": "code",
   "execution_count": 3,
   "metadata": {},
   "outputs": [
    {
     "name": "stdout",
     "output_type": "stream",
     "text": [
      "105\n"
     ]
    }
   ],
   "source": [
    "print(sales.shape[0])"
   ]
  },
  {
   "cell_type": "code",
   "execution_count": 4,
   "metadata": {},
   "outputs": [
    {
     "name": "stdout",
     "output_type": "stream",
     "text": [
      "2021-09\n"
     ]
    }
   ],
   "source": [
    "x = sales['Month'][sales.shape[0]-1]\n",
    "print(x)"
   ]
  },
  {
   "cell_type": "code",
   "execution_count": 5,
   "metadata": {},
   "outputs": [
    {
     "data": {
      "text/html": [
       "<div>\n",
       "<style scoped>\n",
       "    .dataframe tbody tr th:only-of-type {\n",
       "        vertical-align: middle;\n",
       "    }\n",
       "\n",
       "    .dataframe tbody tr th {\n",
       "        vertical-align: top;\n",
       "    }\n",
       "\n",
       "    .dataframe thead th {\n",
       "        text-align: right;\n",
       "    }\n",
       "</style>\n",
       "<table border=\"1\" class=\"dataframe\">\n",
       "  <thead>\n",
       "    <tr style=\"text-align: right;\">\n",
       "      <th></th>\n",
       "      <th>Month</th>\n",
       "      <th>Sales</th>\n",
       "    </tr>\n",
       "  </thead>\n",
       "  <tbody>\n",
       "    <tr>\n",
       "      <th>0</th>\n",
       "      <td>2013-01</td>\n",
       "      <td>2815</td>\n",
       "    </tr>\n",
       "    <tr>\n",
       "      <th>1</th>\n",
       "      <td>2013-02</td>\n",
       "      <td>2672</td>\n",
       "    </tr>\n",
       "    <tr>\n",
       "      <th>2</th>\n",
       "      <td>2013-03</td>\n",
       "      <td>2755</td>\n",
       "    </tr>\n",
       "    <tr>\n",
       "      <th>3</th>\n",
       "      <td>2013-04</td>\n",
       "      <td>2721</td>\n",
       "    </tr>\n",
       "    <tr>\n",
       "      <th>4</th>\n",
       "      <td>2013-05</td>\n",
       "      <td>2946</td>\n",
       "    </tr>\n",
       "    <tr>\n",
       "      <th>...</th>\n",
       "      <td>...</td>\n",
       "      <td>...</td>\n",
       "    </tr>\n",
       "    <tr>\n",
       "      <th>100</th>\n",
       "      <td>2021-05</td>\n",
       "      <td>4618</td>\n",
       "    </tr>\n",
       "    <tr>\n",
       "      <th>101</th>\n",
       "      <td>2021-06</td>\n",
       "      <td>5312</td>\n",
       "    </tr>\n",
       "    <tr>\n",
       "      <th>102</th>\n",
       "      <td>2021-07</td>\n",
       "      <td>4298</td>\n",
       "    </tr>\n",
       "    <tr>\n",
       "      <th>103</th>\n",
       "      <td>2021-08</td>\n",
       "      <td>1413</td>\n",
       "    </tr>\n",
       "    <tr>\n",
       "      <th>104</th>\n",
       "      <td>2021-09</td>\n",
       "      <td>5877</td>\n",
       "    </tr>\n",
       "  </tbody>\n",
       "</table>\n",
       "<p>105 rows × 2 columns</p>\n",
       "</div>"
      ],
      "text/plain": [
       "       Month  Sales\n",
       "0    2013-01   2815\n",
       "1    2013-02   2672\n",
       "2    2013-03   2755\n",
       "3    2013-04   2721\n",
       "4    2013-05   2946\n",
       "..       ...    ...\n",
       "100  2021-05   4618\n",
       "101  2021-06   5312\n",
       "102  2021-07   4298\n",
       "103  2021-08   1413\n",
       "104  2021-09   5877\n",
       "\n",
       "[105 rows x 2 columns]"
      ]
     },
     "execution_count": 5,
     "metadata": {},
     "output_type": "execute_result"
    }
   ],
   "source": [
    "sales"
   ]
  },
  {
   "cell_type": "code",
   "execution_count": 6,
   "metadata": {},
   "outputs": [],
   "source": [
    "sales['Month'] = pd.to_datetime(sales['Month'], errors = 'coerce')\n",
    "sales.set_index('Month', inplace=True)"
   ]
  },
  {
   "cell_type": "code",
   "execution_count": 7,
   "metadata": {},
   "outputs": [
    {
     "name": "stdout",
     "output_type": "stream",
     "text": [
      "            Sales\n",
      "Month            \n",
      "2013-01-01   2815\n",
      "2013-02-01   2672\n",
      "2013-03-01   2755\n",
      "2013-04-01   2721\n",
      "2013-05-01   2946\n",
      "...           ...\n",
      "2021-05-01   4618\n",
      "2021-06-01   5312\n",
      "2021-07-01   4298\n",
      "2021-08-01   1413\n",
      "2021-09-01   5877\n",
      "\n",
      "[105 rows x 1 columns]\n"
     ]
    }
   ],
   "source": [
    "print(sales)"
   ]
  },
  {
   "cell_type": "code",
   "execution_count": 8,
   "metadata": {},
   "outputs": [
    {
     "name": "stdout",
     "output_type": "stream",
     "text": [
      "Performing stepwise search to minimize aic\n",
      " ARIMA(0,1,0)(0,1,0)[12]             : AIC=1183.693, Time=0.08 sec\n",
      " ARIMA(1,1,0)(1,1,0)[12]             : AIC=1173.736, Time=0.25 sec\n",
      " ARIMA(0,1,1)(0,1,1)[12]             : AIC=1157.042, Time=0.56 sec\n",
      " ARIMA(0,1,1)(0,1,0)[12]             : AIC=1155.109, Time=0.19 sec\n",
      " ARIMA(0,1,1)(1,1,0)[12]             : AIC=1157.009, Time=0.49 sec\n",
      " ARIMA(0,1,1)(1,1,1)[12]             : AIC=1158.348, Time=1.21 sec\n",
      " ARIMA(1,1,1)(0,1,0)[12]             : AIC=1155.379, Time=0.29 sec\n",
      " ARIMA(0,1,2)(0,1,0)[12]             : AIC=1155.138, Time=0.27 sec\n",
      " ARIMA(1,1,0)(0,1,0)[12]             : AIC=1173.612, Time=0.07 sec\n",
      " ARIMA(1,1,2)(0,1,0)[12]             : AIC=1155.790, Time=0.43 sec\n",
      " ARIMA(0,1,1)(0,1,0)[12] intercept   : AIC=inf, Time=0.21 sec\n",
      "\n",
      "Best model:  ARIMA(0,1,1)(0,1,0)[12]          \n",
      "Total fit time: 4.052 seconds\n"
     ]
    }
   ],
   "source": [
    "from sklearn.model_selection import train_test_split\n",
    "train, test = train_test_split(sales, test_size=0.2, shuffle=False)\n",
    "\n",
    "arima_model = auto_arima(train, start_p=0, d=1, start_q=0,\n",
    "                        max_p=5, max_d=5, max_q=5, start_P=0,\n",
    "                        D=1, start_Q=0, max_P=5, max_D=5,\n",
    "                        max_Q=5, m=12, seasonal=True,\n",
    "                        error_action='warn', trace=True,\n",
    "                        supress_warnings=True, stepwise=True,\n",
    "                        random_state=20, n_fits=50)"
   ]
  },
  {
   "cell_type": "code",
   "execution_count": 9,
   "metadata": {},
   "outputs": [],
   "source": [
    "prediction = pd.DataFrame(\n",
    "    arima_model.predict(n_periods=30),index=test.index )\n",
    "prediction.columns = ['predicted_sales']\n",
    "prediction.reset_index(inplace=True)"
   ]
  },
  {
   "cell_type": "code",
   "execution_count": 10,
   "metadata": {},
   "outputs": [
    {
     "name": "stdout",
     "output_type": "stream",
     "text": [
      "        Month  predicted_sales\n",
      "0  2020-01-01      2260.640695\n",
      "1  2020-02-01      2520.640695\n",
      "2  2020-03-01      2991.640695\n",
      "3  2020-04-01      3361.640695\n",
      "4  2020-05-01      2548.640695\n",
      "5  2020-06-01      3607.640695\n",
      "6  2020-07-01      3838.640695\n",
      "7  2020-08-01      1359.640695\n",
      "8  2020-09-01      4842.640695\n",
      "9  2020-10-01      6045.640695\n",
      "10 2020-11-01      9463.640695\n",
      "11 2020-12-01     12697.640695\n",
      "12 2021-01-01      1882.281390\n",
      "13 2021-02-01      2142.281390\n",
      "14 2021-03-01      2613.281390\n",
      "15 2021-04-01      2983.281390\n",
      "16 2021-05-01      2170.281390\n",
      "17 2021-06-01      3229.281390\n",
      "18 2021-07-01      3460.281390\n",
      "19 2021-08-01       981.281390\n",
      "20 2021-09-01      4464.281390\n"
     ]
    }
   ],
   "source": [
    "print(prediction)"
   ]
  },
  {
   "cell_type": "code",
   "execution_count": 11,
   "metadata": {},
   "outputs": [],
   "source": [
    "index_future_dates = pd.date_range(\n",
    "    start=x, end='2023-01-1', freq='MS')"
   ]
  },
  {
   "cell_type": "code",
   "execution_count": 12,
   "metadata": {},
   "outputs": [
    {
     "name": "stdout",
     "output_type": "stream",
     "text": [
      "            predicted_sales\n",
      "2021-09-01      4464.281390\n",
      "2021-10-01      5667.281390\n",
      "2021-11-01      9085.281390\n",
      "2021-12-01     12319.281390\n",
      "2022-01-01      1503.922084\n",
      "2022-02-01      1763.922084\n",
      "2022-03-01      2234.922084\n",
      "2022-04-01      2604.922084\n",
      "2022-05-01      1791.922084\n",
      "2022-06-01      2850.922084\n",
      "2022-07-01      3081.922084\n",
      "2022-08-01       602.922084\n",
      "2022-09-01      4085.922084\n",
      "2022-10-01      5288.922084\n",
      "2022-11-01      8706.922084\n",
      "2022-12-01     11940.922084\n",
      "2023-01-01              NaN\n"
     ]
    }
   ],
   "source": [
    "prediction_arima = pd.DataFrame(\n",
    "    arima_model.predict(n_periods=36), index = index_future_dates)\n",
    "prediction_arima.columns = ['predicted_sales']  \n",
    "print(prediction_arima)"
   ]
  },
  {
   "attachments": {},
   "cell_type": "markdown",
   "metadata": {},
   "source": []
  }
 ],
 "metadata": {
  "kernelspec": {
   "display_name": "nckh",
   "language": "python",
   "name": "python3"
  },
  "language_info": {
   "codemirror_mode": {
    "name": "ipython",
    "version": 3
   },
   "file_extension": ".py",
   "mimetype": "text/x-python",
   "name": "python",
   "nbconvert_exporter": "python",
   "pygments_lexer": "ipython3",
   "version": "3.9.16"
  },
  "orig_nbformat": 4
 },
 "nbformat": 4,
 "nbformat_minor": 2
}
