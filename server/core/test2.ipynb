{
 "cells": [
  {
   "cell_type": "code",
   "execution_count": 1,
   "metadata": {},
   "outputs": [],
   "source": [
    "import pandas as pd\n",
    "import numpy as np\n",
    "from pandas import read_csv\n",
    "from pmdarima.arima import auto_arima\n",
    "from datetime import datetime\n",
    "import matplotlib.pyplot as plt\n",
    "import tsfresh\n",
    "from pmdarima.arima import ADFTest\n",
    "from tsfresh import extract_features\n",
    "from statsmodels.tsa.arima.model import ARIMA"
   ]
  },
  {
   "cell_type": "code",
   "execution_count": 2,
   "metadata": {},
   "outputs": [],
   "source": [
    "values = read_csv(\"../../Electric_Production.csv\")"
   ]
  },
  {
   "cell_type": "code",
   "execution_count": 3,
   "metadata": {},
   "outputs": [
    {
     "data": {
      "text/html": [
       "<div>\n",
       "<style scoped>\n",
       "    .dataframe tbody tr th:only-of-type {\n",
       "        vertical-align: middle;\n",
       "    }\n",
       "\n",
       "    .dataframe tbody tr th {\n",
       "        vertical-align: top;\n",
       "    }\n",
       "\n",
       "    .dataframe thead th {\n",
       "        text-align: right;\n",
       "    }\n",
       "</style>\n",
       "<table border=\"1\" class=\"dataframe\">\n",
       "  <thead>\n",
       "    <tr style=\"text-align: right;\">\n",
       "      <th></th>\n",
       "      <th>DATE</th>\n",
       "      <th>IPG2211A2N</th>\n",
       "    </tr>\n",
       "  </thead>\n",
       "  <tbody>\n",
       "    <tr>\n",
       "      <th>0</th>\n",
       "      <td>1/1/1985</td>\n",
       "      <td>72.5052</td>\n",
       "    </tr>\n",
       "    <tr>\n",
       "      <th>1</th>\n",
       "      <td>2/1/1985</td>\n",
       "      <td>70.6720</td>\n",
       "    </tr>\n",
       "    <tr>\n",
       "      <th>2</th>\n",
       "      <td>3/1/1985</td>\n",
       "      <td>62.4502</td>\n",
       "    </tr>\n",
       "    <tr>\n",
       "      <th>3</th>\n",
       "      <td>4/1/1985</td>\n",
       "      <td>57.4714</td>\n",
       "    </tr>\n",
       "    <tr>\n",
       "      <th>4</th>\n",
       "      <td>5/1/1985</td>\n",
       "      <td>55.3151</td>\n",
       "    </tr>\n",
       "    <tr>\n",
       "      <th>5</th>\n",
       "      <td>6/1/1985</td>\n",
       "      <td>58.0904</td>\n",
       "    </tr>\n",
       "    <tr>\n",
       "      <th>6</th>\n",
       "      <td>7/1/1985</td>\n",
       "      <td>62.6202</td>\n",
       "    </tr>\n",
       "    <tr>\n",
       "      <th>7</th>\n",
       "      <td>8/1/1985</td>\n",
       "      <td>63.2485</td>\n",
       "    </tr>\n",
       "    <tr>\n",
       "      <th>8</th>\n",
       "      <td>9/1/1985</td>\n",
       "      <td>60.5846</td>\n",
       "    </tr>\n",
       "    <tr>\n",
       "      <th>9</th>\n",
       "      <td>10/1/1985</td>\n",
       "      <td>56.3154</td>\n",
       "    </tr>\n",
       "    <tr>\n",
       "      <th>10</th>\n",
       "      <td>11/1/1985</td>\n",
       "      <td>58.0005</td>\n",
       "    </tr>\n",
       "    <tr>\n",
       "      <th>11</th>\n",
       "      <td>12/1/1985</td>\n",
       "      <td>68.7145</td>\n",
       "    </tr>\n",
       "    <tr>\n",
       "      <th>12</th>\n",
       "      <td>1/1/1986</td>\n",
       "      <td>73.3057</td>\n",
       "    </tr>\n",
       "  </tbody>\n",
       "</table>\n",
       "</div>"
      ],
      "text/plain": [
       "         DATE  IPG2211A2N\n",
       "0    1/1/1985     72.5052\n",
       "1    2/1/1985     70.6720\n",
       "2    3/1/1985     62.4502\n",
       "3    4/1/1985     57.4714\n",
       "4    5/1/1985     55.3151\n",
       "5    6/1/1985     58.0904\n",
       "6    7/1/1985     62.6202\n",
       "7    8/1/1985     63.2485\n",
       "8    9/1/1985     60.5846\n",
       "9   10/1/1985     56.3154\n",
       "10  11/1/1985     58.0005\n",
       "11  12/1/1985     68.7145\n",
       "12   1/1/1986     73.3057"
      ]
     },
     "execution_count": 3,
     "metadata": {},
     "output_type": "execute_result"
    }
   ],
   "source": [
    "values.head(13)"
   ]
  },
  {
   "cell_type": "code",
   "execution_count": 4,
   "metadata": {},
   "outputs": [],
   "source": [
    "\n",
    "values = values.rename(columns={'DATE': 'Time'})\n",
    "values = values.rename(columns={'IPG2211A2N': 'Data'})\n",
    "values['Time'] = pd.to_datetime(\n",
    "    values['Time'], errors='coerce')"
   ]
  },
  {
   "cell_type": "code",
   "execution_count": 5,
   "metadata": {},
   "outputs": [],
   "source": [
    "freq = pd.infer_freq(values[\"Time\"])"
   ]
  },
  {
   "cell_type": "code",
   "execution_count": 6,
   "metadata": {},
   "outputs": [
    {
     "ename": "NameError",
     "evalue": "name 'x' is not defined",
     "output_type": "error",
     "traceback": [
      "\u001b[1;31m---------------------------------------------------------------------------\u001b[0m",
      "\u001b[1;31mNameError\u001b[0m                                 Traceback (most recent call last)",
      "Cell \u001b[1;32mIn[6], line 1\u001b[0m\n\u001b[1;32m----> 1\u001b[0m end_date \u001b[39m=\u001b[39m pd\u001b[39m.\u001b[39mto_datetime(x) \u001b[39m+\u001b[39m pd\u001b[39m.\u001b[39mDateOffset(months\u001b[39m=\u001b[39m\u001b[39m10\u001b[39m)\n\u001b[0;32m      2\u001b[0m \u001b[39mprint\u001b[39m(end_date)\n",
      "\u001b[1;31mNameError\u001b[0m: name 'x' is not defined"
     ]
    }
   ],
   "source": [
    "# end_date = pd.to_datetime(x) + pd.DateOffset(months=10)\n",
    "# print(end_date)"
   ]
  },
  {
   "cell_type": "code",
   "execution_count": 7,
   "metadata": {},
   "outputs": [],
   "source": [
    "values.set_index('Time', inplace=True)"
   ]
  },
  {
   "cell_type": "code",
   "execution_count": 8,
   "metadata": {},
   "outputs": [],
   "source": [
    "from sklearn.model_selection import train_test_split\n",
    "train, test = train_test_split(\n",
    "    values, test_size=0.2, shuffle=False)"
   ]
  },
  {
   "cell_type": "code",
   "execution_count": 9,
   "metadata": {},
   "outputs": [
    {
     "name": "stderr",
     "output_type": "stream",
     "text": [
      "c:\\Users\\haman\\anaconda3\\envs\\doan\\lib\\site-packages\\statsmodels\\tsa\\base\\tsa_model.py:536: ValueWarning: No frequency information was provided, so inferred frequency MS will be used.\n",
      "  warnings.warn('No frequency information was'\n",
      "c:\\Users\\haman\\anaconda3\\envs\\doan\\lib\\site-packages\\statsmodels\\tsa\\base\\tsa_model.py:536: ValueWarning: No frequency information was provided, so inferred frequency MS will be used.\n",
      "  warnings.warn('No frequency information was'\n",
      "c:\\Users\\haman\\anaconda3\\envs\\doan\\lib\\site-packages\\statsmodels\\tsa\\base\\tsa_model.py:536: ValueWarning: No frequency information was provided, so inferred frequency MS will be used.\n",
      "  warnings.warn('No frequency information was'\n"
     ]
    }
   ],
   "source": [
    "model = ARIMA( train, exog=None, order=(1, 1, 1), seasonal_order=(1, 1, 1, 12), \n",
    "              trend=None, enforce_stationarity=False, enforce_invertibility=True, \n",
    "              concentrate_scale=False, trend_offset=1, dates=None, freq=None, \n",
    "              missing='none', validate_specification=False)\n",
    "model_fit = model.fit() \n",
    "# model_fit.summary()"
   ]
  },
  {
   "cell_type": "code",
   "execution_count": 10,
   "metadata": {},
   "outputs": [
    {
     "data": {
      "text/html": [
       "<div>\n",
       "<style scoped>\n",
       "    .dataframe tbody tr th:only-of-type {\n",
       "        vertical-align: middle;\n",
       "    }\n",
       "\n",
       "    .dataframe tbody tr th {\n",
       "        vertical-align: top;\n",
       "    }\n",
       "\n",
       "    .dataframe thead th {\n",
       "        text-align: right;\n",
       "    }\n",
       "</style>\n",
       "<table border=\"1\" class=\"dataframe\">\n",
       "  <thead>\n",
       "    <tr style=\"text-align: right;\">\n",
       "      <th></th>\n",
       "      <th>Data</th>\n",
       "    </tr>\n",
       "    <tr>\n",
       "      <th>Time</th>\n",
       "      <th></th>\n",
       "    </tr>\n",
       "  </thead>\n",
       "  <tbody>\n",
       "    <tr>\n",
       "      <th>2011-04-01</th>\n",
       "      <td>89.3583</td>\n",
       "    </tr>\n",
       "    <tr>\n",
       "      <th>2011-05-01</th>\n",
       "      <td>90.0698</td>\n",
       "    </tr>\n",
       "  </tbody>\n",
       "</table>\n",
       "</div>"
      ],
      "text/plain": [
       "               Data\n",
       "Time               \n",
       "2011-04-01  89.3583\n",
       "2011-05-01  90.0698"
      ]
     },
     "execution_count": 10,
     "metadata": {},
     "output_type": "execute_result"
    }
   ],
   "source": [
    "train.tail(2)"
   ]
  },
  {
   "cell_type": "code",
   "execution_count": 11,
   "metadata": {},
   "outputs": [
    {
     "name": "stdout",
     "output_type": "stream",
     "text": [
      "2011-06-01 00:00:00\n"
     ]
    }
   ],
   "source": [
    "x = values.index[train.shape[0]]\n",
    "print(x)"
   ]
  },
  {
   "cell_type": "code",
   "execution_count": 12,
   "metadata": {},
   "outputs": [],
   "source": [
    "n_periods = test.shape[0] + 12"
   ]
  },
  {
   "cell_type": "code",
   "execution_count": 13,
   "metadata": {},
   "outputs": [
    {
     "data": {
      "text/plain": [
       "DatetimeIndex(['2011-06-01', '2011-07-01', '2011-08-01', '2011-09-01',\n",
       "               '2011-10-01', '2011-11-01', '2011-12-01', '2012-01-01',\n",
       "               '2012-02-01', '2012-03-01', '2012-04-01', '2012-05-01',\n",
       "               '2012-06-01', '2012-07-01', '2012-08-01', '2012-09-01',\n",
       "               '2012-10-01', '2012-11-01', '2012-12-01', '2013-01-01',\n",
       "               '2013-02-01', '2013-03-01', '2013-04-01', '2013-05-01',\n",
       "               '2013-06-01', '2013-07-01', '2013-08-01', '2013-09-01',\n",
       "               '2013-10-01', '2013-11-01', '2013-12-01', '2014-01-01',\n",
       "               '2014-02-01', '2014-03-01', '2014-04-01', '2014-05-01',\n",
       "               '2014-06-01', '2014-07-01', '2014-08-01', '2014-09-01',\n",
       "               '2014-10-01', '2014-11-01', '2014-12-01', '2015-01-01',\n",
       "               '2015-02-01', '2015-03-01', '2015-04-01', '2015-05-01',\n",
       "               '2015-06-01', '2015-07-01', '2015-08-01', '2015-09-01',\n",
       "               '2015-10-01', '2015-11-01', '2015-12-01', '2016-01-01',\n",
       "               '2016-02-01', '2016-03-01', '2016-04-01', '2016-05-01',\n",
       "               '2016-06-01', '2016-07-01', '2016-08-01', '2016-09-01',\n",
       "               '2016-10-01', '2016-11-01', '2016-12-01', '2017-01-01',\n",
       "               '2017-02-01', '2017-03-01', '2017-04-01', '2017-05-01',\n",
       "               '2017-06-01', '2017-07-01', '2017-08-01', '2017-09-01',\n",
       "               '2017-10-01', '2017-11-01', '2017-12-01', '2018-01-01',\n",
       "               '2018-02-01', '2018-03-01', '2018-04-01', '2018-05-01',\n",
       "               '2018-06-01', '2018-07-01', '2018-08-01', '2018-09-01',\n",
       "               '2018-10-01', '2018-11-01', '2018-12-01', '2019-01-01'],\n",
       "              dtype='datetime64[ns]', freq='MS')"
      ]
     },
     "execution_count": 13,
     "metadata": {},
     "output_type": "execute_result"
    }
   ],
   "source": [
    "index_future_dates = pd.date_range(\n",
    "    start=x, periods=n_periods, freq=freq)\n",
    "\n",
    "index_future_dates"
   ]
  },
  {
   "cell_type": "code",
   "execution_count": 14,
   "metadata": {},
   "outputs": [],
   "source": [
    "predicted = model_fit.forecast(n_periods)"
   ]
  },
  {
   "cell_type": "code",
   "execution_count": 15,
   "metadata": {},
   "outputs": [],
   "source": [
    "prediction = pd.DataFrame(predicted, index=index_future_dates)\n",
    "prediction.columns = ['predicted_values']\n",
    "prediction.reset_index(inplace=True)"
   ]
  },
  {
   "cell_type": "code",
   "execution_count": 16,
   "metadata": {},
   "outputs": [
    {
     "name": "stdout",
     "output_type": "stream",
     "text": [
      "        index  predicted_values\n",
      "80 2018-02-01        114.316003\n",
      "81 2018-03-01        105.800263\n",
      "82 2018-04-01         95.679632\n",
      "83 2018-05-01         97.063235\n",
      "84 2018-06-01        108.328434\n",
      "85 2018-07-01        116.203879\n",
      "86 2018-08-01        117.052545\n",
      "87 2018-09-01        105.606682\n",
      "88 2018-10-01         97.664908\n",
      "89 2018-11-01         99.776108\n",
      "90 2018-12-01        117.493540\n",
      "91 2019-01-01        124.109426\n"
     ]
    }
   ],
   "source": [
    "prediction=prediction.tail(12)\n",
    "print(prediction)"
   ]
  },
  {
   "cell_type": "code",
   "execution_count": 17,
   "metadata": {},
   "outputs": [
    {
     "data": {
      "text/plain": [
       "<bound method IndexOpsMixin.value_counts of Index(['index', 'predicted_values'], dtype='object')>"
      ]
     },
     "execution_count": 17,
     "metadata": {},
     "output_type": "execute_result"
    }
   ],
   "source": [
    "prediction.columns.value_counts"
   ]
  },
  {
   "cell_type": "code",
   "execution_count": 18,
   "metadata": {},
   "outputs": [
    {
     "data": {
      "text/plain": [
       "[<matplotlib.lines.Line2D at 0x247e2e1f8b0>]"
      ]
     },
     "execution_count": 18,
     "metadata": {},
     "output_type": "execute_result"
    },
    {
     "data": {
      "image/png": "[encoded data removed]",
      "text/plain": [
       "<Figure size 640x480 with 1 Axes>"
      ]
     },
     "metadata": {},
     "output_type": "display_data"
    }
   ],
   "source": [
    "plt.plot(values.index,values['Data'])\n",
    "plt.plot(index_future_dates,predicted)"
   ]
  }
 ],
 "metadata": {
  "kernelspec": {
   "display_name": "nckh",
   "language": "python",
   "name": "python3"
  },
  "language_info": {
   "codemirror_mode": {
    "name": "ipython",
    "version": 3
   },
   "file_extension": ".py",
   "mimetype": "text/x-python",
   "name": "python",
   "nbconvert_exporter": "python",
   "pygments_lexer": "ipython3",
   "version": "3.9.16"
  },
  "orig_nbformat": 4
 },
 "nbformat": 4,
 "nbformat_minor": 2
}
