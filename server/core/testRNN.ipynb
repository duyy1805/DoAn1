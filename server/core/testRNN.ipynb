{
 "cells": [
  {
   "cell_type": "code",
   "execution_count": 1,
   "metadata": {},
   "outputs": [],
   "source": [
    "import pandas as pd\n",
    "import numpy as np\n",
    "from pandas import read_csv\n",
    "from pmdarima.arima import auto_arima\n",
    "from datetime import datetime\n",
    "import matplotlib.pyplot as plt\n",
    "import tsfresh\n",
    "import joblib\n",
    "from pmdarima.arima import ADFTest\n",
    "from tsfresh import extract_features\n",
    "from statsmodels.tsa.arima.model import ARIMA\n",
    "from sklearn.metrics import mean_absolute_error, mean_squared_error, mean_absolute_percentage_error"
   ]
  },
  {
   "cell_type": "code",
   "execution_count": 2,
   "metadata": {},
   "outputs": [],
   "source": [
    "values = read_csv(\"../../Time_series_data.csv\")"
   ]
  },
  {
   "cell_type": "code",
   "execution_count": 3,
   "metadata": {},
   "outputs": [
    {
     "data": {
      "text/html": [
       "<div>\n",
       "<style scoped>\n",
       "    .dataframe tbody tr th:only-of-type {\n",
       "        vertical-align: middle;\n",
       "    }\n",
       "\n",
       "    .dataframe tbody tr th {\n",
       "        vertical-align: top;\n",
       "    }\n",
       "\n",
       "    .dataframe thead th {\n",
       "        text-align: right;\n",
       "    }\n",
       "</style>\n",
       "<table border=\"1\" class=\"dataframe\">\n",
       "  <thead>\n",
       "    <tr style=\"text-align: right;\">\n",
       "      <th></th>\n",
       "      <th>Month</th>\n",
       "      <th>Sales</th>\n",
       "    </tr>\n",
       "  </thead>\n",
       "  <tbody>\n",
       "    <tr>\n",
       "      <th>0</th>\n",
       "      <td>2013-01</td>\n",
       "      <td>2815</td>\n",
       "    </tr>\n",
       "    <tr>\n",
       "      <th>1</th>\n",
       "      <td>2013-02</td>\n",
       "      <td>2672</td>\n",
       "    </tr>\n",
       "    <tr>\n",
       "      <th>2</th>\n",
       "      <td>2013-03</td>\n",
       "      <td>2755</td>\n",
       "    </tr>\n",
       "    <tr>\n",
       "      <th>3</th>\n",
       "      <td>2013-04</td>\n",
       "      <td>2721</td>\n",
       "    </tr>\n",
       "    <tr>\n",
       "      <th>4</th>\n",
       "      <td>2013-05</td>\n",
       "      <td>2946</td>\n",
       "    </tr>\n",
       "    <tr>\n",
       "      <th>5</th>\n",
       "      <td>2013-06</td>\n",
       "      <td>3036</td>\n",
       "    </tr>\n",
       "    <tr>\n",
       "      <th>6</th>\n",
       "      <td>2013-07</td>\n",
       "      <td>2282</td>\n",
       "    </tr>\n",
       "    <tr>\n",
       "      <th>7</th>\n",
       "      <td>2013-08</td>\n",
       "      <td>2212</td>\n",
       "    </tr>\n",
       "    <tr>\n",
       "      <th>8</th>\n",
       "      <td>2013-09</td>\n",
       "      <td>2922</td>\n",
       "    </tr>\n",
       "    <tr>\n",
       "      <th>9</th>\n",
       "      <td>2013-10</td>\n",
       "      <td>4301</td>\n",
       "    </tr>\n",
       "    <tr>\n",
       "      <th>10</th>\n",
       "      <td>2013-11</td>\n",
       "      <td>5764</td>\n",
       "    </tr>\n",
       "    <tr>\n",
       "      <th>11</th>\n",
       "      <td>2013-12</td>\n",
       "      <td>7312</td>\n",
       "    </tr>\n",
       "    <tr>\n",
       "      <th>12</th>\n",
       "      <td>2014-01</td>\n",
       "      <td>2541</td>\n",
       "    </tr>\n",
       "  </tbody>\n",
       "</table>\n",
       "</div>"
      ],
      "text/plain": [
       "      Month  Sales\n",
       "0   2013-01   2815\n",
       "1   2013-02   2672\n",
       "2   2013-03   2755\n",
       "3   2013-04   2721\n",
       "4   2013-05   2946\n",
       "5   2013-06   3036\n",
       "6   2013-07   2282\n",
       "7   2013-08   2212\n",
       "8   2013-09   2922\n",
       "9   2013-10   4301\n",
       "10  2013-11   5764\n",
       "11  2013-12   7312\n",
       "12  2014-01   2541"
      ]
     },
     "execution_count": 3,
     "metadata": {},
     "output_type": "execute_result"
    }
   ],
   "source": [
    "values.head(13)"
   ]
  },
  {
   "cell_type": "code",
   "execution_count": 4,
   "metadata": {},
   "outputs": [],
   "source": [
    "\n",
    "values = values.rename(columns={values.columns[1]: 'Data'})\n",
    "values = values.rename(columns={values.columns[0]: 'Time'})\n",
    "values['Time'] = pd.to_datetime(\n",
    "    values['Time'], errors='coerce')"
   ]
  },
  {
   "cell_type": "code",
   "execution_count": 5,
   "metadata": {},
   "outputs": [],
   "source": [
    "freq = pd.infer_freq(values[\"Time\"])"
   ]
  },
  {
   "cell_type": "code",
   "execution_count": 6,
   "metadata": {},
   "outputs": [],
   "source": [
    "# end_date = pd.to_datetime(x) + pd.DateOffset(months=10)\n",
    "# print(end_date)"
   ]
  },
  {
   "cell_type": "code",
   "execution_count": 7,
   "metadata": {},
   "outputs": [],
   "source": [
    "values.set_index('Time', inplace=True)"
   ]
  },
  {
   "cell_type": "code",
   "execution_count": 8,
   "metadata": {},
   "outputs": [],
   "source": [
    "from sklearn.model_selection import train_test_split\n",
    "train, test = train_test_split(\n",
    "    values, test_size=0.2, shuffle=False)\n",
    "\n",
    "rnn_train = train\n",
    "rnn_test = test"
   ]
  },
  {
   "cell_type": "code",
   "execution_count": 9,
   "metadata": {},
   "outputs": [],
   "source": [
    "from sklearn.preprocessing import MinMaxScaler\n",
    "scaler = MinMaxScaler()\n",
    "\n",
    "scaler.fit(rnn_train)\n",
    "scaled_train = scaler.transform(rnn_train)\n",
    "scaled_test = scaler.transform(rnn_test)"
   ]
  },
  {
   "cell_type": "code",
   "execution_count": 10,
   "metadata": {},
   "outputs": [],
   "source": [
    "from keras.preprocessing.sequence import TimeseriesGenerator\n",
    "\n",
    "# define generator\n",
    "n_input = 12\n",
    "n_features = 1\n",
    "generator = TimeseriesGenerator(\n",
    "    scaled_train, scaled_train, length=n_input, batch_size=1)\n",
    "\n",
    "from keras.models import Sequential\n",
    "from keras.layers import Dense\n",
    "from keras.layers import LSTM"
   ]
  },
  {
   "cell_type": "code",
   "execution_count": 11,
   "metadata": {},
   "outputs": [
    {
     "name": "stdout",
     "output_type": "stream",
     "text": [
      "Model: \"sequential\"\n",
      "_________________________________________________________________\n",
      " Layer (type)                Output Shape              Param #   \n",
      "=================================================================\n",
      " lstm (LSTM)                 (None, 100)               40800     \n",
      "                                                                 \n",
      " dense (Dense)               (None, 1)                 101       \n",
      "                                                                 \n",
      "=================================================================\n",
      "Total params: 40901 (159.77 KB)\n",
      "Trainable params: 40901 (159.77 KB)\n",
      "Non-trainable params: 0 (0.00 Byte)\n",
      "_________________________________________________________________\n",
      "Epoch 1/50\n",
      "72/72 [==============================] - 2s 4ms/step - loss: 0.0568\n",
      "Epoch 2/50\n",
      "72/72 [==============================] - 0s 4ms/step - loss: 0.0481\n",
      "Epoch 3/50\n",
      "72/72 [==============================] - 0s 4ms/step - loss: 0.0431\n",
      "Epoch 4/50\n",
      "72/72 [==============================] - 0s 4ms/step - loss: 0.0380\n",
      "Epoch 5/50\n",
      "72/72 [==============================] - 0s 4ms/step - loss: 0.0379\n",
      "Epoch 6/50\n",
      "72/72 [==============================] - 0s 4ms/step - loss: 0.0246\n",
      "Epoch 7/50\n",
      "72/72 [==============================] - 0s 4ms/step - loss: 0.0202\n",
      "Epoch 8/50\n",
      "72/72 [==============================] - 0s 4ms/step - loss: 0.0161\n",
      "Epoch 9/50\n",
      "72/72 [==============================] - 0s 4ms/step - loss: 0.0242\n",
      "Epoch 10/50\n",
      "72/72 [==============================] - 0s 4ms/step - loss: 0.0286\n",
      "Epoch 11/50\n",
      "72/72 [==============================] - 0s 4ms/step - loss: 0.0100\n",
      "Epoch 12/50\n",
      "72/72 [==============================] - 0s 4ms/step - loss: 0.0101\n",
      "Epoch 13/50\n",
      "72/72 [==============================] - 0s 4ms/step - loss: 0.0105\n",
      "Epoch 14/50\n",
      "72/72 [==============================] - 0s 4ms/step - loss: 0.0075\n",
      "Epoch 15/50\n",
      "72/72 [==============================] - 0s 4ms/step - loss: 0.0097\n",
      "Epoch 16/50\n",
      "72/72 [==============================] - 0s 4ms/step - loss: 0.0068\n",
      "Epoch 17/50\n",
      "72/72 [==============================] - 0s 4ms/step - loss: 0.0074\n",
      "Epoch 18/50\n",
      "72/72 [==============================] - 0s 4ms/step - loss: 0.0065\n",
      "Epoch 19/50\n",
      "72/72 [==============================] - 0s 4ms/step - loss: 0.0055\n",
      "Epoch 20/50\n",
      "72/72 [==============================] - 0s 4ms/step - loss: 0.0062\n",
      "Epoch 21/50\n",
      "72/72 [==============================] - 0s 4ms/step - loss: 0.0073\n",
      "Epoch 22/50\n",
      "72/72 [==============================] - 0s 4ms/step - loss: 0.0073\n",
      "Epoch 23/50\n",
      "72/72 [==============================] - 0s 4ms/step - loss: 0.0078\n",
      "Epoch 24/50\n",
      "72/72 [==============================] - 0s 6ms/step - loss: 0.0062\n",
      "Epoch 25/50\n",
      "72/72 [==============================] - 0s 5ms/step - loss: 0.0069\n",
      "Epoch 26/50\n",
      "72/72 [==============================] - 0s 5ms/step - loss: 0.0083\n",
      "Epoch 27/50\n",
      "72/72 [==============================] - 1s 16ms/step - loss: 0.0057\n",
      "Epoch 28/50\n",
      "72/72 [==============================] - 1s 13ms/step - loss: 0.0065\n",
      "Epoch 29/50\n",
      "72/72 [==============================] - 1s 14ms/step - loss: 0.0058\n",
      "Epoch 30/50\n",
      "72/72 [==============================] - 1s 11ms/step - loss: 0.0055\n",
      "Epoch 31/50\n",
      "72/72 [==============================] - 1s 8ms/step - loss: 0.0061\n",
      "Epoch 32/50\n",
      "72/72 [==============================] - 1s 12ms/step - loss: 0.0065\n",
      "Epoch 33/50\n",
      "72/72 [==============================] - 1s 16ms/step - loss: 0.0051\n",
      "Epoch 34/50\n",
      "72/72 [==============================] - 2s 21ms/step - loss: 0.0076\n",
      "Epoch 35/50\n",
      "72/72 [==============================] - 0s 6ms/step - loss: 0.0059\n",
      "Epoch 36/50\n",
      "72/72 [==============================] - 0s 6ms/step - loss: 0.0081\n",
      "Epoch 37/50\n",
      "72/72 [==============================] - 1s 11ms/step - loss: 0.0059\n",
      "Epoch 38/50\n",
      "72/72 [==============================] - 1s 6ms/step - loss: 0.0051\n",
      "Epoch 39/50\n",
      "72/72 [==============================] - 0s 4ms/step - loss: 0.0068\n",
      "Epoch 40/50\n",
      "72/72 [==============================] - 0s 4ms/step - loss: 0.0049\n",
      "Epoch 41/50\n",
      "72/72 [==============================] - 0s 5ms/step - loss: 0.0056\n",
      "Epoch 42/50\n",
      "72/72 [==============================] - 0s 5ms/step - loss: 0.0059\n",
      "Epoch 43/50\n",
      "72/72 [==============================] - 0s 4ms/step - loss: 0.0079\n",
      "Epoch 44/50\n",
      "72/72 [==============================] - 0s 4ms/step - loss: 0.0053\n",
      "Epoch 45/50\n",
      "72/72 [==============================] - 0s 5ms/step - loss: 0.0062\n",
      "Epoch 46/50\n",
      "72/72 [==============================] - 0s 4ms/step - loss: 0.0046\n",
      "Epoch 47/50\n",
      "72/72 [==============================] - 0s 5ms/step - loss: 0.0039\n",
      "Epoch 48/50\n",
      "72/72 [==============================] - 0s 4ms/step - loss: 0.0044\n",
      "Epoch 49/50\n",
      "72/72 [==============================] - 0s 4ms/step - loss: 0.0045\n",
      "Epoch 50/50\n",
      "72/72 [==============================] - 0s 4ms/step - loss: 0.0052\n"
     ]
    },
    {
     "data": {
      "text/plain": [
       "<keras.src.callbacks.History at 0x23b26d75760>"
      ]
     },
     "execution_count": 11,
     "metadata": {},
     "output_type": "execute_result"
    }
   ],
   "source": [
    "# define model\n",
    "model = Sequential()\n",
    "model.add(LSTM(100, activation='relu',\n",
    "            input_shape=(n_input, n_features)))\n",
    "model.add(Dense(1))\n",
    "model.compile(optimizer='adam', loss='mse')\n",
    "\n",
    "model.summary()\n",
    "model.fit(generator, epochs=50)"
   ]
  },
  {
   "cell_type": "code",
   "execution_count": 12,
   "metadata": {},
   "outputs": [],
   "source": [
    "last_train_batch = scaled_train[-12:]\n",
    "last_train_batch = last_train_batch.reshape((1, n_input, n_features))\n"
   ]
  },
  {
   "cell_type": "code",
   "execution_count": 13,
   "metadata": {},
   "outputs": [
    {
     "data": {
      "text/plain": [
       "array([[[0.08636474],\n",
       "        [0.10742931],\n",
       "        [0.14558859],\n",
       "        [0.1755651 ],\n",
       "        [0.1096978 ],\n",
       "        [0.19549542],\n",
       "        [0.21421048],\n",
       "        [0.0133679 ],\n",
       "        [0.29555213],\n",
       "        [0.39301628],\n",
       "        [0.66993438],\n",
       "        [0.93194523]]])"
      ]
     },
     "execution_count": 13,
     "metadata": {},
     "output_type": "execute_result"
    }
   ],
   "source": [
    "last_train_batch"
   ]
  },
  {
   "cell_type": "code",
   "execution_count": 15,
   "metadata": {},
   "outputs": [
    {
     "name": "stdout",
     "output_type": "stream",
     "text": [
      "1/1 [==============================] - 0s 221ms/step\n"
     ]
    }
   ],
   "source": [
    "model.predict(last_train_batch)\n",
    "\n",
    "test_predictions = []\n",
    "\n",
    "first_eval_batch = scaled_train[-n_input:]\n",
    "current_batch = first_eval_batch.reshape((1, n_input, n_features))"
   ]
  },
  {
   "cell_type": "code",
   "execution_count": 16,
   "metadata": {},
   "outputs": [
    {
     "name": "stdout",
     "output_type": "stream",
     "text": [
      "Model: \"sequential\"\n",
      "_________________________________________________________________\n",
      " Layer (type)                Output Shape              Param #   \n",
      "=================================================================\n",
      " lstm (LSTM)                 (None, 100)               40800     \n",
      "                                                                 \n",
      " dense (Dense)               (None, 1)                 101       \n",
      "                                                                 \n",
      "=================================================================\n",
      "Total params: 40901 (159.77 KB)\n",
      "Trainable params: 40901 (159.77 KB)\n",
      "Non-trainable params: 0 (0.00 Byte)\n",
      "_________________________________________________________________\n"
     ]
    }
   ],
   "source": [
    "model.summary()"
   ]
  },
  {
   "cell_type": "code",
   "execution_count": 17,
   "metadata": {},
   "outputs": [
    {
     "name": "stdout",
     "output_type": "stream",
     "text": [
      "1/1 [==============================] - 0s 32ms/step\n",
      "1/1 [==============================] - 0s 26ms/step\n",
      "1/1 [==============================] - 0s 23ms/step\n",
      "1/1 [==============================] - 0s 28ms/step\n",
      "1/1 [==============================] - 0s 24ms/step\n",
      "1/1 [==============================] - 0s 20ms/step\n",
      "1/1 [==============================] - 0s 25ms/step\n",
      "1/1 [==============================] - 0s 33ms/step\n",
      "1/1 [==============================] - 0s 23ms/step\n",
      "1/1 [==============================] - 0s 26ms/step\n",
      "1/1 [==============================] - 0s 23ms/step\n",
      "1/1 [==============================] - 0s 42ms/step\n",
      "1/1 [==============================] - 0s 33ms/step\n",
      "1/1 [==============================] - 0s 36ms/step\n",
      "1/1 [==============================] - 0s 23ms/step\n",
      "1/1 [==============================] - 0s 27ms/step\n",
      "1/1 [==============================] - 0s 25ms/step\n",
      "1/1 [==============================] - 0s 25ms/step\n",
      "1/1 [==============================] - 0s 31ms/step\n",
      "1/1 [==============================] - 0s 39ms/step\n",
      "1/1 [==============================] - 0s 30ms/step\n"
     ]
    }
   ],
   "source": [
    "for i in range(len(rnn_test)):\n",
    "    # get the prediction value for the first batch\n",
    "    current_pred = model.predict(current_batch)[0]\n",
    "\n",
    "    # append the prediction into the array\n",
    "    test_predictions.append(current_pred)\n",
    "    \n",
    "    # use the prediction to update the batch and remove the first value\n",
    "    current_batch = np.append(current_batch[:, 1:, :], [\n",
    "                                [current_pred]], axis=1)"
   ]
  },
  {
   "cell_type": "code",
   "execution_count": 18,
   "metadata": {},
   "outputs": [
    {
     "data": {
      "text/plain": [
       "array([[[0.52306765],\n",
       "        [0.79092807],\n",
       "        [1.07825017],\n",
       "        [0.37269959],\n",
       "        [0.29219088],\n",
       "        [0.28285432],\n",
       "        [0.27916941],\n",
       "        [0.2324615 ],\n",
       "        [0.29330647],\n",
       "        [0.31665212],\n",
       "        [0.26231652],\n",
       "        [0.50745201]]])"
      ]
     },
     "execution_count": 18,
     "metadata": {},
     "output_type": "execute_result"
    }
   ],
   "source": [
    "current_batch"
   ]
  },
  {
   "cell_type": "code",
   "execution_count": 19,
   "metadata": {},
   "outputs": [],
   "source": [
    "true_predictions = scaler.inverse_transform(test_predictions)\n",
    "rnn_test['Predictions'] = true_predictions"
   ]
  },
  {
   "cell_type": "code",
   "execution_count": 20,
   "metadata": {},
   "outputs": [],
   "source": [
    "forecast_errors = [rnn_test['Data'][i]-rnn_test['Predictions'][i] for i in range(len(rnn_test))]"
   ]
  },
  {
   "cell_type": "code",
   "execution_count": 21,
   "metadata": {},
   "outputs": [
    {
     "data": {
      "text/plain": [
       "[-474.87092208862305,\n",
       " -959.6936868131161,\n",
       " -5.203043222427368,\n",
       " 215.67917676270008,\n",
       " 1145.9953997582197,\n",
       " 189.0627538561821,\n",
       " -270.4504846930504,\n",
       " -1880.5994669646025,\n",
       " -573.0032794177532,\n",
       " -1048.2240431904793,\n",
       " -1484.4251158833504,\n",
       " -2211.8418452739716,\n",
       " -1825.2310213148594,\n",
       " -1615.5120266973972,\n",
       " -487.2708547115326,\n",
       " -230.78803339600563,\n",
       " 175.72774021327496,\n",
       " 118.71824181079865,\n",
       " -1183.4371067881584,\n",
       " -3397.77286785841,\n",
       " -1959.480173110962]"
      ]
     },
     "execution_count": 21,
     "metadata": {},
     "output_type": "execute_result"
    }
   ],
   "source": [
    "forecast_errors"
   ]
  },
  {
   "cell_type": "code",
   "execution_count": 22,
   "metadata": {},
   "outputs": [],
   "source": [
    "mean_forecast_error = np.mean(forecast_errors)"
   ]
  },
  {
   "cell_type": "code",
   "execution_count": 23,
   "metadata": {},
   "outputs": [
    {
     "data": {
      "text/plain": [
       "1021.5708230393274"
      ]
     },
     "execution_count": 23,
     "metadata": {},
     "output_type": "execute_result"
    }
   ],
   "source": [
    "mae = mean_absolute_error(rnn_test['Data'], rnn_test['Predictions'])\n",
    "mae"
   ]
  },
  {
   "cell_type": "code",
   "execution_count": 24,
   "metadata": {},
   "outputs": [
    {
     "data": {
      "text/plain": [
       "1796987.603271212"
      ]
     },
     "execution_count": 24,
     "metadata": {},
     "output_type": "execute_result"
    }
   ],
   "source": [
    "mse = mean_squared_error(rnn_test['Data'], rnn_test['Predictions'])\n",
    "mse"
   ]
  },
  {
   "cell_type": "code",
   "execution_count": 25,
   "metadata": {},
   "outputs": [
    {
     "data": {
      "text/plain": [
       "0.3144899062258788"
      ]
     },
     "execution_count": 25,
     "metadata": {},
     "output_type": "execute_result"
    }
   ],
   "source": [
    "mape = mean_absolute_percentage_error(rnn_test['Data'], rnn_test['Predictions'])\n",
    "mape"
   ]
  },
  {
   "cell_type": "code",
   "execution_count": 26,
   "metadata": {},
   "outputs": [],
   "source": [
    "model_folder = \"Models\"\n",
    "model_filename = \"RNN.pkl\"\n",
    "model_path = f\"{model_folder}/{model_filename}\""
   ]
  },
  {
   "cell_type": "code",
   "execution_count": 27,
   "metadata": {},
   "outputs": [],
   "source": [
    "# Tạo thư mục nếu chưa tồn tại\n",
    "import os\n",
    "os.makedirs(model_folder, exist_ok=True)"
   ]
  },
  {
   "cell_type": "code",
   "execution_count": 28,
   "metadata": {},
   "outputs": [
    {
     "data": {
      "text/plain": [
       "['Models/RNN.pkl']"
      ]
     },
     "execution_count": 28,
     "metadata": {},
     "output_type": "execute_result"
    }
   ],
   "source": [
    "# Lưu mô hình\n",
    "joblib.dump(model, model_path)"
   ]
  },
  {
   "cell_type": "code",
   "execution_count": 29,
   "metadata": {},
   "outputs": [],
   "source": [
    "loaded_model = joblib.load(model_path)"
   ]
  },
  {
   "cell_type": "code",
   "execution_count": 30,
   "metadata": {},
   "outputs": [
    {
     "name": "stdout",
     "output_type": "stream",
     "text": [
      "Model: \"sequential\"\n",
      "_________________________________________________________________\n",
      " Layer (type)                Output Shape              Param #   \n",
      "=================================================================\n",
      " lstm (LSTM)                 (None, 100)               40800     \n",
      "                                                                 \n",
      " dense (Dense)               (None, 1)                 101       \n",
      "                                                                 \n",
      "=================================================================\n",
      "Total params: 40901 (159.77 KB)\n",
      "Trainable params: 40901 (159.77 KB)\n",
      "Non-trainable params: 0 (0.00 Byte)\n",
      "_________________________________________________________________\n"
     ]
    }
   ],
   "source": [
    "loaded_model.summary()"
   ]
  }
 ],
 "metadata": {
  "kernelspec": {
   "display_name": "nckh",
   "language": "python",
   "name": "python3"
  },
  "language_info": {
   "codemirror_mode": {
    "name": "ipython",
    "version": 3
   },
   "file_extension": ".py",
   "mimetype": "text/x-python",
   "name": "python",
   "nbconvert_exporter": "python",
   "pygments_lexer": "ipython3",
   "version": "3.9.16"
  },
  "orig_nbformat": 4
 },
 "nbformat": 4,
 "nbformat_minor": 2
}
