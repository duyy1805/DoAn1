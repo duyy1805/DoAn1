{
 "cells": [
  {
   "cell_type": "code",
   "execution_count": 1,
   "metadata": {},
   "outputs": [],
   "source": [
    "import pandas as pd\n",
    "import numpy as np\n",
    "from pandas import read_csv\n",
    "from pmdarima.arima import auto_arima\n",
    "from datetime import datetime\n",
    "import matplotlib.pyplot as plt\n",
    "import tsfresh\n",
    "from pmdarima.arima import ADFTest\n",
    "from tsfresh import extract_features\n",
    "from statsmodels.tsa.arima.model import ARIMA\n",
    "from sklearn.metrics import mean_absolute_error, mean_squared_error"
   ]
  },
  {
   "cell_type": "code",
   "execution_count": 2,
   "metadata": {},
   "outputs": [],
   "source": [
    "values = read_csv(\"../../Time_series_data.csv\")"
   ]
  },
  {
   "cell_type": "code",
   "execution_count": 3,
   "metadata": {},
   "outputs": [
    {
     "data": {
      "text/html": [
       "<div>\n",
       "<style scoped>\n",
       "    .dataframe tbody tr th:only-of-type {\n",
       "        vertical-align: middle;\n",
       "    }\n",
       "\n",
       "    .dataframe tbody tr th {\n",
       "        vertical-align: top;\n",
       "    }\n",
       "\n",
       "    .dataframe thead th {\n",
       "        text-align: right;\n",
       "    }\n",
       "</style>\n",
       "<table border=\"1\" class=\"dataframe\">\n",
       "  <thead>\n",
       "    <tr style=\"text-align: right;\">\n",
       "      <th></th>\n",
       "      <th>Month</th>\n",
       "      <th>Sales</th>\n",
       "    </tr>\n",
       "  </thead>\n",
       "  <tbody>\n",
       "    <tr>\n",
       "      <th>0</th>\n",
       "      <td>2013-01</td>\n",
       "      <td>2815</td>\n",
       "    </tr>\n",
       "    <tr>\n",
       "      <th>1</th>\n",
       "      <td>2013-02</td>\n",
       "      <td>2672</td>\n",
       "    </tr>\n",
       "    <tr>\n",
       "      <th>2</th>\n",
       "      <td>2013-03</td>\n",
       "      <td>2755</td>\n",
       "    </tr>\n",
       "    <tr>\n",
       "      <th>3</th>\n",
       "      <td>2013-04</td>\n",
       "      <td>2721</td>\n",
       "    </tr>\n",
       "    <tr>\n",
       "      <th>4</th>\n",
       "      <td>2013-05</td>\n",
       "      <td>2946</td>\n",
       "    </tr>\n",
       "    <tr>\n",
       "      <th>5</th>\n",
       "      <td>2013-06</td>\n",
       "      <td>3036</td>\n",
       "    </tr>\n",
       "    <tr>\n",
       "      <th>6</th>\n",
       "      <td>2013-07</td>\n",
       "      <td>2282</td>\n",
       "    </tr>\n",
       "    <tr>\n",
       "      <th>7</th>\n",
       "      <td>2013-08</td>\n",
       "      <td>2212</td>\n",
       "    </tr>\n",
       "    <tr>\n",
       "      <th>8</th>\n",
       "      <td>2013-09</td>\n",
       "      <td>2922</td>\n",
       "    </tr>\n",
       "    <tr>\n",
       "      <th>9</th>\n",
       "      <td>2013-10</td>\n",
       "      <td>4301</td>\n",
       "    </tr>\n",
       "    <tr>\n",
       "      <th>10</th>\n",
       "      <td>2013-11</td>\n",
       "      <td>5764</td>\n",
       "    </tr>\n",
       "    <tr>\n",
       "      <th>11</th>\n",
       "      <td>2013-12</td>\n",
       "      <td>7312</td>\n",
       "    </tr>\n",
       "    <tr>\n",
       "      <th>12</th>\n",
       "      <td>2014-01</td>\n",
       "      <td>2541</td>\n",
       "    </tr>\n",
       "  </tbody>\n",
       "</table>\n",
       "</div>"
      ],
      "text/plain": [
       "      Month  Sales\n",
       "0   2013-01   2815\n",
       "1   2013-02   2672\n",
       "2   2013-03   2755\n",
       "3   2013-04   2721\n",
       "4   2013-05   2946\n",
       "5   2013-06   3036\n",
       "6   2013-07   2282\n",
       "7   2013-08   2212\n",
       "8   2013-09   2922\n",
       "9   2013-10   4301\n",
       "10  2013-11   5764\n",
       "11  2013-12   7312\n",
       "12  2014-01   2541"
      ]
     },
     "execution_count": 3,
     "metadata": {},
     "output_type": "execute_result"
    }
   ],
   "source": [
    "values.head(13)"
   ]
  },
  {
   "cell_type": "code",
   "execution_count": 4,
   "metadata": {},
   "outputs": [],
   "source": [
    "\n",
    "values = values.rename(columns={values.columns[1]: 'Data'})\n",
    "values = values.rename(columns={values.columns[0]: 'Time'})\n",
    "values['Time'] = pd.to_datetime(\n",
    "    values['Time'], errors='coerce')"
   ]
  },
  {
   "cell_type": "code",
   "execution_count": 5,
   "metadata": {},
   "outputs": [],
   "source": [
    "freq = pd.infer_freq(values[\"Time\"])"
   ]
  },
  {
   "cell_type": "code",
   "execution_count": 6,
   "metadata": {},
   "outputs": [],
   "source": [
    "# end_date = pd.to_datetime(x) + pd.DateOffset(months=10)\n",
    "# print(end_date)"
   ]
  },
  {
   "cell_type": "code",
   "execution_count": 7,
   "metadata": {},
   "outputs": [],
   "source": [
    "values.set_index('Time', inplace=True)"
   ]
  },
  {
   "cell_type": "code",
   "execution_count": 8,
   "metadata": {},
   "outputs": [],
   "source": [
    "from sklearn.model_selection import train_test_split\n",
    "train, test = train_test_split(\n",
    "    values, test_size=0.2, shuffle=False)\n",
    "\n",
    "rnn_train = train\n",
    "rnn_test = test"
   ]
  },
  {
   "cell_type": "code",
   "execution_count": 9,
   "metadata": {},
   "outputs": [],
   "source": [
    "from sklearn.preprocessing import MinMaxScaler\n",
    "scaler = MinMaxScaler()\n",
    "\n",
    "scaler.fit(rnn_train)\n",
    "scaled_train = scaler.transform(rnn_train)\n",
    "scaled_test = scaler.transform(rnn_test)"
   ]
  },
  {
   "cell_type": "code",
   "execution_count": 10,
   "metadata": {},
   "outputs": [],
   "source": [
    "from keras.preprocessing.sequence import TimeseriesGenerator\n",
    "\n",
    "# define generator\n",
    "n_input = 12\n",
    "n_features = 1\n",
    "generator = TimeseriesGenerator(\n",
    "    scaled_train, scaled_train, length=n_input, batch_size=1)\n",
    "\n",
    "from keras.models import Sequential\n",
    "from keras.layers import Dense\n",
    "from keras.layers import LSTM"
   ]
  },
  {
   "cell_type": "code",
   "execution_count": 11,
   "metadata": {},
   "outputs": [
    {
     "name": "stdout",
     "output_type": "stream",
     "text": [
      "Model: \"sequential\"\n",
      "_________________________________________________________________\n",
      " Layer (type)                Output Shape              Param #   \n",
      "=================================================================\n",
      " lstm (LSTM)                 (None, 100)               40800     \n",
      "                                                                 \n",
      " dense (Dense)               (None, 1)                 101       \n",
      "                                                                 \n",
      "=================================================================\n",
      "Total params: 40901 (159.77 KB)\n",
      "Trainable params: 40901 (159.77 KB)\n",
      "Non-trainable params: 0 (0.00 Byte)\n",
      "_________________________________________________________________\n",
      "Epoch 1/50\n",
      "72/72 [==============================] - 2s 4ms/step - loss: 0.0618\n",
      "Epoch 2/50\n",
      "72/72 [==============================] - 0s 4ms/step - loss: 0.0507\n",
      "Epoch 3/50\n",
      "72/72 [==============================] - 0s 4ms/step - loss: 0.0453\n",
      "Epoch 4/50\n",
      "72/72 [==============================] - 0s 4ms/step - loss: 0.0468\n",
      "Epoch 5/50\n",
      "72/72 [==============================] - 0s 4ms/step - loss: 0.0353\n",
      "Epoch 6/50\n",
      "72/72 [==============================] - 0s 4ms/step - loss: 0.0258\n",
      "Epoch 7/50\n",
      "72/72 [==============================] - 0s 4ms/step - loss: 0.0150\n",
      "Epoch 8/50\n",
      "72/72 [==============================] - 0s 4ms/step - loss: 0.0497\n",
      "Epoch 9/50\n",
      "72/72 [==============================] - 0s 4ms/step - loss: 0.0367\n",
      "Epoch 10/50\n",
      "72/72 [==============================] - 0s 4ms/step - loss: 0.0304\n",
      "Epoch 11/50\n",
      "72/72 [==============================] - 0s 4ms/step - loss: 0.0360\n",
      "Epoch 12/50\n",
      "72/72 [==============================] - 0s 4ms/step - loss: 0.0271\n",
      "Epoch 13/50\n",
      "72/72 [==============================] - 0s 5ms/step - loss: 0.0150\n",
      "Epoch 14/50\n",
      "72/72 [==============================] - 0s 4ms/step - loss: 0.0191\n",
      "Epoch 15/50\n",
      "72/72 [==============================] - 0s 4ms/step - loss: 0.0120\n",
      "Epoch 16/50\n",
      "72/72 [==============================] - 0s 4ms/step - loss: 0.0109\n",
      "Epoch 17/50\n",
      "72/72 [==============================] - 0s 5ms/step - loss: 0.0128\n",
      "Epoch 18/50\n",
      "72/72 [==============================] - 0s 4ms/step - loss: 0.0089\n",
      "Epoch 19/50\n",
      "72/72 [==============================] - 0s 4ms/step - loss: 0.0087\n",
      "Epoch 20/50\n",
      "72/72 [==============================] - 0s 4ms/step - loss: 0.0087\n",
      "Epoch 21/50\n",
      "72/72 [==============================] - 0s 4ms/step - loss: 0.0077\n",
      "Epoch 22/50\n",
      "72/72 [==============================] - 0s 4ms/step - loss: 0.0073\n",
      "Epoch 23/50\n",
      "72/72 [==============================] - 0s 4ms/step - loss: 0.0084\n",
      "Epoch 24/50\n",
      "72/72 [==============================] - 0s 4ms/step - loss: 0.0067\n",
      "Epoch 25/50\n",
      "72/72 [==============================] - 0s 4ms/step - loss: 0.0074\n",
      "Epoch 26/50\n",
      "72/72 [==============================] - 0s 4ms/step - loss: 0.0057\n",
      "Epoch 27/50\n",
      "72/72 [==============================] - 0s 4ms/step - loss: 0.0062\n",
      "Epoch 28/50\n",
      "72/72 [==============================] - 0s 4ms/step - loss: 0.0074\n",
      "Epoch 29/50\n",
      "72/72 [==============================] - 0s 4ms/step - loss: 0.0057\n",
      "Epoch 30/50\n",
      "72/72 [==============================] - 0s 4ms/step - loss: 0.0059\n",
      "Epoch 31/50\n",
      "72/72 [==============================] - 0s 4ms/step - loss: 0.0055\n",
      "Epoch 32/50\n",
      "72/72 [==============================] - 0s 4ms/step - loss: 0.0054\n",
      "Epoch 33/50\n",
      "72/72 [==============================] - 0s 4ms/step - loss: 0.0067\n",
      "Epoch 34/50\n",
      "72/72 [==============================] - 0s 4ms/step - loss: 0.0096\n",
      "Epoch 35/50\n",
      "72/72 [==============================] - 0s 5ms/step - loss: 0.0055\n",
      "Epoch 36/50\n",
      "72/72 [==============================] - 0s 4ms/step - loss: 0.0043\n",
      "Epoch 37/50\n",
      "72/72 [==============================] - 0s 4ms/step - loss: 0.0052\n",
      "Epoch 38/50\n",
      "72/72 [==============================] - 0s 4ms/step - loss: 0.0087\n",
      "Epoch 39/50\n",
      "72/72 [==============================] - 0s 4ms/step - loss: 0.0057\n",
      "Epoch 40/50\n",
      "72/72 [==============================] - 0s 4ms/step - loss: 0.0053\n",
      "Epoch 41/50\n",
      "72/72 [==============================] - 0s 4ms/step - loss: 0.0061\n",
      "Epoch 42/50\n",
      "72/72 [==============================] - 0s 4ms/step - loss: 0.0065\n",
      "Epoch 43/50\n",
      "72/72 [==============================] - 0s 5ms/step - loss: 0.0066\n",
      "Epoch 44/50\n",
      "72/72 [==============================] - 0s 4ms/step - loss: 0.0048\n",
      "Epoch 45/50\n",
      "72/72 [==============================] - 0s 4ms/step - loss: 0.0051\n",
      "Epoch 46/50\n",
      "72/72 [==============================] - 0s 4ms/step - loss: 0.0048\n",
      "Epoch 47/50\n",
      "72/72 [==============================] - 0s 4ms/step - loss: 0.0045\n",
      "Epoch 48/50\n",
      "72/72 [==============================] - 0s 4ms/step - loss: 0.0045\n",
      "Epoch 49/50\n",
      "72/72 [==============================] - 0s 4ms/step - loss: 0.0063\n",
      "Epoch 50/50\n",
      "72/72 [==============================] - 0s 4ms/step - loss: 0.0043\n"
     ]
    },
    {
     "data": {
      "text/plain": [
       "<keras.src.callbacks.History at 0x1ffe3f88e20>"
      ]
     },
     "execution_count": 11,
     "metadata": {},
     "output_type": "execute_result"
    }
   ],
   "source": [
    "# define model\n",
    "model = Sequential()\n",
    "model.add(LSTM(100, activation='relu',\n",
    "            input_shape=(n_input, n_features)))\n",
    "model.add(Dense(1))\n",
    "model.compile(optimizer='adam', loss='mse')\n",
    "\n",
    "model.summary()\n",
    "model.fit(generator, epochs=50)"
   ]
  },
  {
   "cell_type": "code",
   "execution_count": 12,
   "metadata": {},
   "outputs": [],
   "source": [
    "last_train_batch = scaled_train[-12:]\n",
    "last_train_batch = last_train_batch.reshape((1, n_input, n_features))\n"
   ]
  },
  {
   "cell_type": "code",
   "execution_count": 13,
   "metadata": {},
   "outputs": [
    {
     "data": {
      "text/plain": [
       "array([[[0.08636474],\n",
       "        [0.10742931],\n",
       "        [0.14558859],\n",
       "        [0.1755651 ],\n",
       "        [0.1096978 ],\n",
       "        [0.19549542],\n",
       "        [0.21421048],\n",
       "        [0.0133679 ],\n",
       "        [0.29555213],\n",
       "        [0.39301628],\n",
       "        [0.66993438],\n",
       "        [0.93194523]]])"
      ]
     },
     "execution_count": 13,
     "metadata": {},
     "output_type": "execute_result"
    }
   ],
   "source": [
    "last_train_batch"
   ]
  },
  {
   "cell_type": "code",
   "execution_count": 14,
   "metadata": {},
   "outputs": [
    {
     "name": "stdout",
     "output_type": "stream",
     "text": [
      "1/1 [==============================] - 0s 237ms/step\n"
     ]
    }
   ],
   "source": [
    "model.predict(last_train_batch)\n",
    "\n",
    "test_predictions = []\n",
    "\n",
    "first_eval_batch = scaled_train[-n_input:]\n",
    "current_batch = first_eval_batch.reshape((1, n_input, n_features))"
   ]
  },
  {
   "cell_type": "code",
   "execution_count": 15,
   "metadata": {},
   "outputs": [
    {
     "name": "stdout",
     "output_type": "stream",
     "text": [
      "Model: \"sequential\"\n",
      "_________________________________________________________________\n",
      " Layer (type)                Output Shape              Param #   \n",
      "=================================================================\n",
      " lstm (LSTM)                 (None, 100)               40800     \n",
      "                                                                 \n",
      " dense (Dense)               (None, 1)                 101       \n",
      "                                                                 \n",
      "=================================================================\n",
      "Total params: 40901 (159.77 KB)\n",
      "Trainable params: 40901 (159.77 KB)\n",
      "Non-trainable params: 0 (0.00 Byte)\n",
      "_________________________________________________________________\n"
     ]
    }
   ],
   "source": [
    "model.summary()"
   ]
  },
  {
   "cell_type": "code",
   "execution_count": 16,
   "metadata": {},
   "outputs": [
    {
     "name": "stdout",
     "output_type": "stream",
     "text": [
      "1/1 [==============================] - 0s 28ms/step\n",
      "1/1 [==============================] - 0s 26ms/step\n",
      "1/1 [==============================] - 0s 28ms/step\n",
      "1/1 [==============================] - 0s 29ms/step\n",
      "1/1 [==============================] - 0s 25ms/step\n",
      "1/1 [==============================] - 0s 22ms/step\n",
      "1/1 [==============================] - 0s 24ms/step\n",
      "1/1 [==============================] - 0s 22ms/step\n",
      "1/1 [==============================] - 0s 25ms/step\n",
      "1/1 [==============================] - 0s 20ms/step\n",
      "1/1 [==============================] - 0s 25ms/step\n",
      "1/1 [==============================] - 0s 24ms/step\n",
      "1/1 [==============================] - 0s 22ms/step\n",
      "1/1 [==============================] - 0s 23ms/step\n",
      "1/1 [==============================] - 0s 21ms/step\n",
      "1/1 [==============================] - 0s 25ms/step\n",
      "1/1 [==============================] - 0s 21ms/step\n",
      "1/1 [==============================] - 0s 22ms/step\n",
      "1/1 [==============================] - 0s 21ms/step\n",
      "1/1 [==============================] - 0s 23ms/step\n",
      "1/1 [==============================] - 0s 21ms/step\n"
     ]
    }
   ],
   "source": [
    "for i in range(len(rnn_test)):\n",
    "    # get the prediction value for the first batch\n",
    "    current_pred = model.predict(current_batch)[0]\n",
    "\n",
    "    # append the prediction into the array\n",
    "    test_predictions.append(current_pred)\n",
    "    \n",
    "    # use the prediction to update the batch and remove the first value\n",
    "    current_batch = np.append(current_batch[:, 1:, :], [\n",
    "                                [current_pred]], axis=1)"
   ]
  },
  {
   "cell_type": "code",
   "execution_count": 17,
   "metadata": {},
   "outputs": [
    {
     "data": {
      "text/plain": [
       "array([[[0.44136667],\n",
       "        [0.75908643],\n",
       "        [0.95940435],\n",
       "        [0.19876505],\n",
       "        [0.1526933 ],\n",
       "        [0.14710139],\n",
       "        [0.1545148 ],\n",
       "        [0.13947679],\n",
       "        [0.17857863],\n",
       "        [0.20309703],\n",
       "        [0.14643359],\n",
       "        [0.29306346]]])"
      ]
     },
     "execution_count": 17,
     "metadata": {},
     "output_type": "execute_result"
    }
   ],
   "source": [
    "current_batch"
   ]
  },
  {
   "cell_type": "code",
   "execution_count": 18,
   "metadata": {},
   "outputs": [],
   "source": [
    "true_predictions = scaler.inverse_transform(test_predictions)\n",
    "rnn_test['Predictions'] = true_predictions"
   ]
  },
  {
   "cell_type": "code",
   "execution_count": 23,
   "metadata": {},
   "outputs": [
    {
     "data": {
      "text/plain": [
       "0.865292678328497"
      ]
     },
     "execution_count": 23,
     "metadata": {},
     "output_type": "execute_result"
    }
   ],
   "source": [
    "mae = mean_absolute_error(rnn_test['Data'], rnn_test['Predictions'])\n",
    "mae"
   ]
  },
  {
   "cell_type": "code",
   "execution_count": 22,
   "metadata": {},
   "outputs": [
    {
     "data": {
      "text/plain": [
       "1043291.335971005"
      ]
     },
     "execution_count": 22,
     "metadata": {},
     "output_type": "execute_result"
    }
   ],
   "source": [
    "mse = mean_squared_error(rnn_test['Data'], rnn_test['Predictions'])\n",
    "mse"
   ]
  },
  {
   "cell_type": "code",
   "execution_count": 19,
   "metadata": {},
   "outputs": [
    {
     "data": {
      "text/html": [
       "<div>\n",
       "<style scoped>\n",
       "    .dataframe tbody tr th:only-of-type {\n",
       "        vertical-align: middle;\n",
       "    }\n",
       "\n",
       "    .dataframe tbody tr th {\n",
       "        vertical-align: top;\n",
       "    }\n",
       "\n",
       "    .dataframe thead th {\n",
       "        text-align: right;\n",
       "    }\n",
       "</style>\n",
       "<table border=\"1\" class=\"dataframe\">\n",
       "  <thead>\n",
       "    <tr style=\"text-align: right;\">\n",
       "      <th></th>\n",
       "      <th>Data</th>\n",
       "      <th>Predictions</th>\n",
       "    </tr>\n",
       "    <tr>\n",
       "      <th>Time</th>\n",
       "      <th></th>\n",
       "      <th></th>\n",
       "    </tr>\n",
       "  </thead>\n",
       "  <tbody>\n",
       "    <tr>\n",
       "      <th>2020-01-01</th>\n",
       "      <td>3934</td>\n",
       "      <td>3543.503460</td>\n",
       "    </tr>\n",
       "    <tr>\n",
       "      <th>2020-02-01</th>\n",
       "      <td>3162</td>\n",
       "      <td>3295.515683</td>\n",
       "    </tr>\n",
       "    <tr>\n",
       "      <th>2020-03-01</th>\n",
       "      <td>4286</td>\n",
       "      <td>3421.650918</td>\n",
       "    </tr>\n",
       "    <tr>\n",
       "      <th>2020-04-01</th>\n",
       "      <td>4676</td>\n",
       "      <td>3626.124056</td>\n",
       "    </tr>\n",
       "    <tr>\n",
       "      <th>2020-05-01</th>\n",
       "      <td>5010</td>\n",
       "      <td>3206.401798</td>\n",
       "    </tr>\n",
       "    <tr>\n",
       "      <th>2020-06-01</th>\n",
       "      <td>4874</td>\n",
       "      <td>3891.932145</td>\n",
       "    </tr>\n",
       "    <tr>\n",
       "      <th>2020-07-01</th>\n",
       "      <td>4633</td>\n",
       "      <td>4163.714855</td>\n",
       "    </tr>\n",
       "    <tr>\n",
       "      <th>2020-08-01</th>\n",
       "      <td>1659</td>\n",
       "      <td>2825.011539</td>\n",
       "    </tr>\n",
       "    <tr>\n",
       "      <th>2020-09-01</th>\n",
       "      <td>5951</td>\n",
       "      <td>5169.837938</td>\n",
       "    </tr>\n",
       "    <tr>\n",
       "      <th>2020-10-01</th>\n",
       "      <td>6981</td>\n",
       "      <td>7020.788839</td>\n",
       "    </tr>\n",
       "    <tr>\n",
       "      <th>2020-11-01</th>\n",
       "      <td>9851</td>\n",
       "      <td>10942.403806</td>\n",
       "    </tr>\n",
       "    <tr>\n",
       "      <th>2020-12-01</th>\n",
       "      <td>12670</td>\n",
       "      <td>13414.927884</td>\n",
       "    </tr>\n",
       "    <tr>\n",
       "      <th>2021-01-01</th>\n",
       "      <td>4348</td>\n",
       "      <td>4026.357066</td>\n",
       "    </tr>\n",
       "    <tr>\n",
       "      <th>2021-02-01</th>\n",
       "      <td>3564</td>\n",
       "      <td>3457.693420</td>\n",
       "    </tr>\n",
       "    <tr>\n",
       "      <th>2021-03-01</th>\n",
       "      <td>4577</td>\n",
       "      <td>3388.672424</td>\n",
       "    </tr>\n",
       "    <tr>\n",
       "      <th>2021-04-01</th>\n",
       "      <td>4788</td>\n",
       "      <td>3480.176232</td>\n",
       "    </tr>\n",
       "    <tr>\n",
       "      <th>2021-05-01</th>\n",
       "      <td>4618</td>\n",
       "      <td>3294.562032</td>\n",
       "    </tr>\n",
       "    <tr>\n",
       "      <th>2021-06-01</th>\n",
       "      <td>5312</td>\n",
       "      <td>3777.196031</td>\n",
       "    </tr>\n",
       "    <tr>\n",
       "      <th>2021-07-01</th>\n",
       "      <td>4298</td>\n",
       "      <td>4079.826648</td>\n",
       "    </tr>\n",
       "    <tr>\n",
       "      <th>2021-08-01</th>\n",
       "      <td>1413</td>\n",
       "      <td>3380.429824</td>\n",
       "    </tr>\n",
       "    <tr>\n",
       "      <th>2021-09-01</th>\n",
       "      <td>5877</td>\n",
       "      <td>5190.282309</td>\n",
       "    </tr>\n",
       "  </tbody>\n",
       "</table>\n",
       "</div>"
      ],
      "text/plain": [
       "             Data   Predictions\n",
       "Time                           \n",
       "2020-01-01   3934   3543.503460\n",
       "2020-02-01   3162   3295.515683\n",
       "2020-03-01   4286   3421.650918\n",
       "2020-04-01   4676   3626.124056\n",
       "2020-05-01   5010   3206.401798\n",
       "2020-06-01   4874   3891.932145\n",
       "2020-07-01   4633   4163.714855\n",
       "2020-08-01   1659   2825.011539\n",
       "2020-09-01   5951   5169.837938\n",
       "2020-10-01   6981   7020.788839\n",
       "2020-11-01   9851  10942.403806\n",
       "2020-12-01  12670  13414.927884\n",
       "2021-01-01   4348   4026.357066\n",
       "2021-02-01   3564   3457.693420\n",
       "2021-03-01   4577   3388.672424\n",
       "2021-04-01   4788   3480.176232\n",
       "2021-05-01   4618   3294.562032\n",
       "2021-06-01   5312   3777.196031\n",
       "2021-07-01   4298   4079.826648\n",
       "2021-08-01   1413   3380.429824\n",
       "2021-09-01   5877   5190.282309"
      ]
     },
     "execution_count": 19,
     "metadata": {},
     "output_type": "execute_result"
    }
   ],
   "source": [
    "rnn_test"
   ]
  }
 ],
 "metadata": {
  "kernelspec": {
   "display_name": "nckh",
   "language": "python",
   "name": "python3"
  },
  "language_info": {
   "codemirror_mode": {
    "name": "ipython",
    "version": 3
   },
   "file_extension": ".py",
   "mimetype": "text/x-python",
   "name": "python",
   "nbconvert_exporter": "python",
   "pygments_lexer": "ipython3",
   "version": "3.9.16"
  },
  "orig_nbformat": 4
 },
 "nbformat": 4,
 "nbformat_minor": 2
}
